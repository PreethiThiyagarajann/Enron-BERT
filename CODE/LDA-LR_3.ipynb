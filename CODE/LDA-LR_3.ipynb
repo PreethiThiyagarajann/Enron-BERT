{
 "cells": [
  {
   "cell_type": "code",
   "execution_count": 4,
   "metadata": {},
   "outputs": [
    {
     "name": "stdout",
     "output_type": "stream",
     "text": [
      "Requirement already satisfied: pyLDAvis in c:\\users\\preethi\\anaconda3\\lib\\site-packages (3.3.1)\n",
      "Requirement already satisfied: numpy>=1.20.0 in c:\\users\\preethi\\anaconda3\\lib\\site-packages (from pyLDAvis) (1.20.3)\n",
      "Requirement already satisfied: sklearn in c:\\users\\preethi\\anaconda3\\lib\\site-packages (from pyLDAvis) (0.0)\n",
      "Requirement already satisfied: setuptools in c:\\users\\preethi\\anaconda3\\lib\\site-packages (from pyLDAvis) (58.0.4)\n",
      "Requirement already satisfied: gensim in c:\\users\\preethi\\anaconda3\\lib\\site-packages (from pyLDAvis) (4.2.0)\n",
      "Requirement already satisfied: scipy in c:\\users\\preethi\\anaconda3\\lib\\site-packages (from pyLDAvis) (1.7.1)\n",
      "Requirement already satisfied: numexpr in c:\\users\\preethi\\anaconda3\\lib\\site-packages (from pyLDAvis) (2.7.3)\n",
      "Requirement already satisfied: pandas>=1.2.0 in c:\\users\\preethi\\anaconda3\\lib\\site-packages (from pyLDAvis) (1.3.4)\n",
      "Requirement already satisfied: future in c:\\users\\preethi\\anaconda3\\lib\\site-packages (from pyLDAvis) (0.18.2)\n",
      "Requirement already satisfied: funcy in c:\\users\\preethi\\anaconda3\\lib\\site-packages (from pyLDAvis) (1.17)\n",
      "Requirement already satisfied: joblib in c:\\users\\preethi\\anaconda3\\lib\\site-packages (from pyLDAvis) (1.1.0)\n",
      "Requirement already satisfied: scikit-learn in c:\\users\\preethi\\anaconda3\\lib\\site-packages (from pyLDAvis) (0.24.2)\n",
      "Requirement already satisfied: jinja2 in c:\\users\\preethi\\anaconda3\\lib\\site-packages (from pyLDAvis) (2.11.3)\n",
      "Requirement already satisfied: pytz>=2017.3 in c:\\users\\preethi\\anaconda3\\lib\\site-packages (from pandas>=1.2.0->pyLDAvis) (2021.3)\n",
      "Requirement already satisfied: python-dateutil>=2.7.3 in c:\\users\\preethi\\anaconda3\\lib\\site-packages (from pandas>=1.2.0->pyLDAvis) (2.8.2)\n",
      "Requirement already satisfied: Cython==0.29.28 in c:\\users\\preethi\\anaconda3\\lib\\site-packages (from gensim->pyLDAvis) (0.29.28)\n",
      "Requirement already satisfied: smart-open>=1.8.1 in c:\\users\\preethi\\anaconda3\\lib\\site-packages (from gensim->pyLDAvis) (6.0.0)\n",
      "Requirement already satisfied: MarkupSafe>=0.23 in c:\\users\\preethi\\anaconda3\\lib\\site-packages (from jinja2->pyLDAvis) (1.1.1)\n",
      "Requirement already satisfied: threadpoolctl>=2.0.0 in c:\\users\\preethi\\anaconda3\\lib\\site-packages (from scikit-learn->pyLDAvis) (2.2.0)\n",
      "Requirement already satisfied: six>=1.5 in c:\\users\\preethi\\anaconda3\\lib\\site-packages (from python-dateutil>=2.7.3->pandas>=1.2.0->pyLDAvis) (1.16.0)\n",
      "Note: you may need to restart the kernel to use updated packages.\n"
     ]
    }
   ],
   "source": [
    "pip install pyLDAvis"
   ]
  },
  {
   "cell_type": "code",
   "execution_count": 23,
   "metadata": {},
   "outputs": [
    {
     "name": "stderr",
     "output_type": "stream",
     "text": [
      "[nltk_data] Downloading package stopwords to\n",
      "[nltk_data]     C:\\Users\\Preethi\\AppData\\Roaming\\nltk_data...\n",
      "[nltk_data]   Package stopwords is already up-to-date!\n"
     ]
    }
   ],
   "source": [
    "import pickle\n",
    "import gensim\n",
    "import pyLDAvis\n",
    "import pyLDAvis.gensim_models\n",
    "import pandas as pd\n",
    "import nltk; nltk.download('stopwords')\n",
    "import gensim.corpora as corpora\n",
    "from gensim.utils import simple_preprocess\n",
    "from gensim.models import CoherenceModel\n",
    "import re\n",
    "import warnings\n",
    "from pprint import pprint\n",
    "from sklearn.model_selection import train_test_split\n",
    "import numpy as np\n",
    "from sklearn.metrics import accuracy_score\n",
    "from sklearn.linear_model import LogisticRegression\n",
    "from sklearn.naive_bayes import GaussianNB, MultinomialNB\n",
    "from sklearn.preprocessing import StandardScaler, MinMaxScaler\n",
    "import seaborn as sns\n",
    "%config InlineBackend.figure_formats = ['retina']\n",
    "from sklearn.metrics import f1_score\n",
    "from sklearn import linear_model\n",
    "from sklearn import metrics\n",
    "from sklearn.model_selection import KFold\n",
    "from sklearn.metrics import fbeta_score\n",
    "import matplotlib.pyplot as plt"
   ]
  },
  {
   "cell_type": "code",
   "execution_count": 49,
   "metadata": {},
   "outputs": [
    {
     "name": "stderr",
     "output_type": "stream",
     "text": [
      "C:\\Users\\Aadhithya\\anaconda3\\lib\\site-packages\\ipykernel\\ipkernel.py:287: DeprecationWarning: `should_run_async` will not call `transform_cell` automatically in the future. Please pass the result to `transformed_cell` argument and any exception that happen during thetransform in `preprocessing_exc_tuple` in IPython 7.17 and above.\n",
      "  and should_run_async(code)\n"
     ]
    }
   ],
   "source": [
    "#import the enron preprocessed dataset "
   ]
  },
  {
   "cell_type": "code",
   "execution_count": 7,
   "metadata": {},
   "outputs": [],
   "source": [
    "df = pd.read_csv('C:/Users/Preethi/Downloads/preprocessed_enron_final_v2.1.csv')\n"
   ]
  },
  {
   "cell_type": "code",
   "execution_count": 8,
   "metadata": {},
   "outputs": [
    {
     "data": {
      "text/html": [
       "<div>\n",
       "<style scoped>\n",
       "    .dataframe tbody tr th:only-of-type {\n",
       "        vertical-align: middle;\n",
       "    }\n",
       "\n",
       "    .dataframe tbody tr th {\n",
       "        vertical-align: top;\n",
       "    }\n",
       "\n",
       "    .dataframe thead th {\n",
       "        text-align: right;\n",
       "    }\n",
       "</style>\n",
       "<table border=\"1\" class=\"dataframe\">\n",
       "  <thead>\n",
       "    <tr style=\"text-align: right;\">\n",
       "      <th></th>\n",
       "      <th>x_from</th>\n",
       "      <th>x_to</th>\n",
       "      <th>user</th>\n",
       "      <th>lemmatized</th>\n",
       "      <th>stemmed_tokens</th>\n",
       "      <th>tag</th>\n",
       "    </tr>\n",
       "  </thead>\n",
       "  <tbody>\n",
       "    <tr>\n",
       "      <th>0</th>\n",
       "      <td>Phillip K Allen</td>\n",
       "      <td>Tim Belden &lt;Tim Belden/Enron@EnronXGate&gt;</td>\n",
       "      <td>allen-p</td>\n",
       "      <td>Here forecast</td>\n",
       "      <td>here forecast</td>\n",
       "      <td>0</td>\n",
       "    </tr>\n",
       "    <tr>\n",
       "      <th>1</th>\n",
       "      <td>Phillip K Allen</td>\n",
       "      <td>John J Lavorato &lt;John J Lavorato/ENRON@enronXg...</td>\n",
       "      <td>allen-p</td>\n",
       "      <td>Traveling business take fun trip Especially pr...</td>\n",
       "      <td>travel busi take fun trip especi prepar presen...</td>\n",
       "      <td>0</td>\n",
       "    </tr>\n",
       "    <tr>\n",
       "      <th>2</th>\n",
       "      <td>Phillip K Allen</td>\n",
       "      <td>Randall L Gay</td>\n",
       "      <td>allen-p</td>\n",
       "      <td>Randy Can send schedule salary level everyone ...</td>\n",
       "      <td>randi can send schedul salari level everyon sc...</td>\n",
       "      <td>0</td>\n",
       "    </tr>\n",
       "    <tr>\n",
       "      <th>3</th>\n",
       "      <td>Phillip K Allen</td>\n",
       "      <td>Keith Holst</td>\n",
       "      <td>allen-p</td>\n",
       "      <td>Forwarded Phillip K PM Richard Burchfield AM T...</td>\n",
       "      <td>forward phillip k pm richard burchfield am to ...</td>\n",
       "      <td>0</td>\n",
       "    </tr>\n",
       "    <tr>\n",
       "      <th>4</th>\n",
       "      <td>Phillip K Allen</td>\n",
       "      <td>David W Delainey</td>\n",
       "      <td>allen-p</td>\n",
       "      <td>Dave Here west desk category The origination s...</td>\n",
       "      <td>dave here west desk categori the origin side s...</td>\n",
       "      <td>0</td>\n",
       "    </tr>\n",
       "    <tr>\n",
       "      <th>...</th>\n",
       "      <td>...</td>\n",
       "      <td>...</td>\n",
       "      <td>...</td>\n",
       "      <td>...</td>\n",
       "      <td>...</td>\n",
       "      <td>...</td>\n",
       "    </tr>\n",
       "    <tr>\n",
       "      <th>25710</th>\n",
       "      <td>Zufferli, John &lt;/O=ENRON/OU=NA/CN=RECIPIENTS/C...</td>\n",
       "      <td>Richey, Cooper &lt;/O=ENRON/OU=NA/CN=RECIPIENTS/C...</td>\n",
       "      <td>zufferli-j</td>\n",
       "      <td>A buddy mine selling stuff start need contact ...</td>\n",
       "      <td>a buddi mine sell stuff start need contact mes...</td>\n",
       "      <td>0</td>\n",
       "    </tr>\n",
       "    <tr>\n",
       "      <th>25711</th>\n",
       "      <td>Zufferli, John &lt;/O=ENRON/OU=NA/CN=RECIPIENTS/C...</td>\n",
       "      <td>Dorland, Chris &lt;/O=ENRON/OU=NA/CN=RECIPIENTS/C...</td>\n",
       "      <td>zufferli-j</td>\n",
       "      <td>Check www.segalmotorcar.com</td>\n",
       "      <td>check www.segalmotorcar.com</td>\n",
       "      <td>0</td>\n",
       "    </tr>\n",
       "    <tr>\n",
       "      <th>25712</th>\n",
       "      <td>Zufferli, John &lt;/O=ENRON/OU=NA/CN=RECIPIENTS/C...</td>\n",
       "      <td>Richey, Cooper &lt;/O=ENRON/OU=NA/CN=RECIPIENTS/C...</td>\n",
       "      <td>zufferli-j</td>\n",
       "      <td>Message From `` Ritter Fred Fred.Ritter eal.ab...</td>\n",
       "      <td>messag from `` ritter fred fred.ritt eal.ab.ca...</td>\n",
       "      <td>0</td>\n",
       "    </tr>\n",
       "    <tr>\n",
       "      <th>25713</th>\n",
       "      <td>Zufferli, John &lt;/O=ENRON/OU=NA/CN=RECIPIENTS/C...</td>\n",
       "      <td>Kitchen, Louise &lt;/O=ENRON/OU=NA/CN=RECIPIENTS/...</td>\n",
       "      <td>zufferli-j</td>\n",
       "      <td>Here info staff John Z Message From Milnthorp ...</td>\n",
       "      <td>here info staff john z messag from milnthorp r...</td>\n",
       "      <td>0</td>\n",
       "    </tr>\n",
       "    <tr>\n",
       "      <th>25714</th>\n",
       "      <td>Zufferli, John &lt;/O=ENRON/OU=NA/CN=RECIPIENTS/C...</td>\n",
       "      <td>Lavorato, John &lt;/O=ENRON/OU=NA/CN=RECIPIENTS/C...</td>\n",
       "      <td>zufferli-j</td>\n",
       "      <td>position Alberta Term book send position direc...</td>\n",
       "      <td>posit alberta term book send posit directli ena</td>\n",
       "      <td>0</td>\n",
       "    </tr>\n",
       "  </tbody>\n",
       "</table>\n",
       "<p>25715 rows × 6 columns</p>\n",
       "</div>"
      ],
      "text/plain": [
       "                                                  x_from  \\\n",
       "0                                        Phillip K Allen   \n",
       "1                                        Phillip K Allen   \n",
       "2                                        Phillip K Allen   \n",
       "3                                        Phillip K Allen   \n",
       "4                                        Phillip K Allen   \n",
       "...                                                  ...   \n",
       "25710  Zufferli, John </O=ENRON/OU=NA/CN=RECIPIENTS/C...   \n",
       "25711  Zufferli, John </O=ENRON/OU=NA/CN=RECIPIENTS/C...   \n",
       "25712  Zufferli, John </O=ENRON/OU=NA/CN=RECIPIENTS/C...   \n",
       "25713  Zufferli, John </O=ENRON/OU=NA/CN=RECIPIENTS/C...   \n",
       "25714  Zufferli, John </O=ENRON/OU=NA/CN=RECIPIENTS/C...   \n",
       "\n",
       "                                                    x_to        user  \\\n",
       "0               Tim Belden <Tim Belden/Enron@EnronXGate>     allen-p   \n",
       "1      John J Lavorato <John J Lavorato/ENRON@enronXg...     allen-p   \n",
       "2                                          Randall L Gay     allen-p   \n",
       "3                                            Keith Holst     allen-p   \n",
       "4                                       David W Delainey     allen-p   \n",
       "...                                                  ...         ...   \n",
       "25710  Richey, Cooper </O=ENRON/OU=NA/CN=RECIPIENTS/C...  zufferli-j   \n",
       "25711  Dorland, Chris </O=ENRON/OU=NA/CN=RECIPIENTS/C...  zufferli-j   \n",
       "25712  Richey, Cooper </O=ENRON/OU=NA/CN=RECIPIENTS/C...  zufferli-j   \n",
       "25713  Kitchen, Louise </O=ENRON/OU=NA/CN=RECIPIENTS/...  zufferli-j   \n",
       "25714  Lavorato, John </O=ENRON/OU=NA/CN=RECIPIENTS/C...  zufferli-j   \n",
       "\n",
       "                                              lemmatized  \\\n",
       "0                                          Here forecast   \n",
       "1      Traveling business take fun trip Especially pr...   \n",
       "2      Randy Can send schedule salary level everyone ...   \n",
       "3      Forwarded Phillip K PM Richard Burchfield AM T...   \n",
       "4      Dave Here west desk category The origination s...   \n",
       "...                                                  ...   \n",
       "25710  A buddy mine selling stuff start need contact ...   \n",
       "25711                        Check www.segalmotorcar.com   \n",
       "25712  Message From `` Ritter Fred Fred.Ritter eal.ab...   \n",
       "25713  Here info staff John Z Message From Milnthorp ...   \n",
       "25714  position Alberta Term book send position direc...   \n",
       "\n",
       "                                          stemmed_tokens  tag  \n",
       "0                                          here forecast    0  \n",
       "1      travel busi take fun trip especi prepar presen...    0  \n",
       "2      randi can send schedul salari level everyon sc...    0  \n",
       "3      forward phillip k pm richard burchfield am to ...    0  \n",
       "4      dave here west desk categori the origin side s...    0  \n",
       "...                                                  ...  ...  \n",
       "25710  a buddi mine sell stuff start need contact mes...    0  \n",
       "25711                        check www.segalmotorcar.com    0  \n",
       "25712  messag from `` ritter fred fred.ritt eal.ab.ca...    0  \n",
       "25713  here info staff john z messag from milnthorp r...    0  \n",
       "25714    posit alberta term book send posit directli ena    0  \n",
       "\n",
       "[25715 rows x 6 columns]"
      ]
     },
     "execution_count": 8,
     "metadata": {},
     "output_type": "execute_result"
    }
   ],
   "source": [
    "df"
   ]
  },
  {
   "cell_type": "code",
   "execution_count": 9,
   "metadata": {},
   "outputs": [],
   "source": [
    "df.drop_duplicates(inplace=True)"
   ]
  },
  {
   "cell_type": "code",
   "execution_count": 10,
   "metadata": {},
   "outputs": [],
   "source": [
    "#visualization of contents"
   ]
  },
  {
   "cell_type": "code",
   "execution_count": 11,
   "metadata": {},
   "outputs": [],
   "source": [
    "df['lem_len'] = df['lemmatized'].apply(lambda x: len(str(x).split()))"
   ]
  },
  {
   "cell_type": "code",
   "execution_count": 12,
   "metadata": {},
   "outputs": [
    {
     "data": {
      "text/plain": [
       "Text(0.5, 0, '')"
      ]
     },
     "execution_count": 12,
     "metadata": {},
     "output_type": "execute_result"
    },
    {
     "data": {
      "image/png": "[encoded data removed]",
      "text/plain": [
       "<Figure size 720x576 with 1 Axes>"
      ]
     },
     "metadata": {
      "image/png": {
       "height": 476,
       "width": 630
      },
      "needs_background": "light"
     },
     "output_type": "display_data"
    }
   ],
   "source": [
    "plt.figure(figsize=(10,8))\n",
    "plt.rcParams.update({'font.size': 20})\n",
    "sns.boxplot(x = 'tag', y = 'lem_len', data = df)\n",
    "plt.ylabel('')\n",
    "plt.xlabel('')"
   ]
  },
  {
   "cell_type": "code",
   "execution_count": 13,
   "metadata": {},
   "outputs": [
    {
     "name": "stderr",
     "output_type": "stream",
     "text": [
      "C:\\Users\\Preethi\\anaconda3\\lib\\site-packages\\seaborn\\_decorators.py:36: FutureWarning: Pass the following variable as a keyword arg: x. From version 0.12, the only valid positional argument will be `data`, and passing other arguments without an explicit keyword will result in an error or misinterpretation.\n",
      "  warnings.warn(\n"
     ]
    },
    {
     "data": {
      "text/plain": [
       "Text(0.5, 0, '')"
      ]
     },
     "execution_count": 13,
     "metadata": {},
     "output_type": "execute_result"
    },
    {
     "data": {
      "image/png": "[encoded data removed]",
      "text/plain": [
       "<Figure size 720x576 with 1 Axes>"
      ]
     },
     "metadata": {
      "image/png": {
       "height": 476,
       "width": 643
      },
      "needs_background": "light"
     },
     "output_type": "display_data"
    }
   ],
   "source": [
    "plt.figure(figsize=(10,8))\n",
    "plt.rcParams.update({'font.size': 20})\n",
    "sns.countplot('tag', data = df)\n",
    "plt.ylabel('')\n",
    "plt.xlabel('')"
   ]
  },
  {
   "cell_type": "code",
   "execution_count": 14,
   "metadata": {},
   "outputs": [],
   "source": [
    "#since the max size of criminal size is around 2000, we take it as maximimum limit for further application"
   ]
  },
  {
   "cell_type": "code",
   "execution_count": 15,
   "metadata": {},
   "outputs": [
    {
     "name": "stdout",
     "output_type": "stream",
     "text": [
      "25675\n",
      "23380\n"
     ]
    }
   ],
   "source": [
    "print(len(df))\n",
    "mask = (df['lemmatized'].str.len() > 0) & (df['lemmatized'].str.len() < 2100)\n",
    "df = df.loc[mask]\n",
    "print(len(df))"
   ]
  },
  {
   "cell_type": "code",
   "execution_count": 16,
   "metadata": {},
   "outputs": [],
   "source": [
    "#preparing a dataset sample with almost equal amount of criminal and non criminal files for better clasification"
   ]
  },
  {
   "cell_type": "code",
   "execution_count": 17,
   "metadata": {},
   "outputs": [],
   "source": [
    "T1 = df[df['tag'] == 0].copy()\n",
    "T2=df[df['tag'] == 1].copy()\n",
    "T3 = T1.iloc[:1500,:].copy()\n",
    "df = pd.concat([T2.reset_index(drop=True),T3.reset_index(drop=True)], axis=0)\n",
    "df = df.sample(frac = 1)"
   ]
  },
  {
   "cell_type": "code",
   "execution_count": 18,
   "metadata": {},
   "outputs": [
    {
     "data": {
      "text/html": [
       "<div>\n",
       "<style scoped>\n",
       "    .dataframe tbody tr th:only-of-type {\n",
       "        vertical-align: middle;\n",
       "    }\n",
       "\n",
       "    .dataframe tbody tr th {\n",
       "        vertical-align: top;\n",
       "    }\n",
       "\n",
       "    .dataframe thead th {\n",
       "        text-align: right;\n",
       "    }\n",
       "</style>\n",
       "<table border=\"1\" class=\"dataframe\">\n",
       "  <thead>\n",
       "    <tr style=\"text-align: right;\">\n",
       "      <th></th>\n",
       "      <th>x_from</th>\n",
       "      <th>x_to</th>\n",
       "      <th>user</th>\n",
       "      <th>lemmatized</th>\n",
       "      <th>stemmed_tokens</th>\n",
       "      <th>tag</th>\n",
       "      <th>lem_len</th>\n",
       "    </tr>\n",
       "  </thead>\n",
       "  <tbody>\n",
       "    <tr>\n",
       "      <th>650</th>\n",
       "      <td>Bowen Jr., Raymond &lt;/O=ENRON/OU=NA/CN=RECIPIEN...</td>\n",
       "      <td>Denne, Karen &lt;/O=ENRON/OU=NA/CN=RECIPIENTS/CN=...</td>\n",
       "      <td>kean-s</td>\n",
       "      <td>... let circulate usual suspect well fax Ken A...</td>\n",
       "      <td>... let circul usual suspect well fax ken also...</td>\n",
       "      <td>1</td>\n",
       "      <td>23</td>\n",
       "    </tr>\n",
       "    <tr>\n",
       "      <th>1170</th>\n",
       "      <td>Hannon, Kevin</td>\n",
       "      <td>Lay, Kenneth &lt;/o=ENRON/ou=NA/cn=Recipients/cn=...</td>\n",
       "      <td>skilling-j</td>\n",
       "      <td>To Enron Corporate Policy Committee Please rev...</td>\n",
       "      <td>to enron corpor polici committe pleas review a...</td>\n",
       "      <td>1</td>\n",
       "      <td>23</td>\n",
       "    </tr>\n",
       "    <tr>\n",
       "      <th>538</th>\n",
       "      <td>John Arnold</td>\n",
       "      <td>John J Lavorato &lt;John J Lavorato/ENRON@enronXg...</td>\n",
       "      <td>arnold-j</td>\n",
       "      <td>none From =09John J enronXgate AM To =09Philli...</td>\n",
       "      <td>none from =09john j enronxg am to =09phillip k...</td>\n",
       "      <td>0</td>\n",
       "      <td>145</td>\n",
       "    </tr>\n",
       "    <tr>\n",
       "      <th>63</th>\n",
       "      <td>Phillip K Allen</td>\n",
       "      <td>Mike Grigsby, Keith Holst, Frank Ermis, Jane M...</td>\n",
       "      <td>allen-p</td>\n",
       "      <td>Forwarded Phillip K AM D Steffes ENRON AM To P...</td>\n",
       "      <td>forward phillip k am d steff enron am to phill...</td>\n",
       "      <td>0</td>\n",
       "      <td>176</td>\n",
       "    </tr>\n",
       "    <tr>\n",
       "      <th>993</th>\n",
       "      <td>Sturm, Fletcher J. &lt;/O=ENRON/OU=NA/CN=RECIPIEN...</td>\n",
       "      <td>Baughman Jr., Don &lt;/O=ENRON/OU=NA/CN=RECIPIENT...</td>\n",
       "      <td>baughman-d</td>\n",
       "      <td>thank great 1st half year fletch Message From ...</td>\n",
       "      <td>thank great 1st half year fletch messag from b...</td>\n",
       "      <td>0</td>\n",
       "      <td>53</td>\n",
       "    </tr>\n",
       "  </tbody>\n",
       "</table>\n",
       "</div>"
      ],
      "text/plain": [
       "                                                 x_from  \\\n",
       "650   Bowen Jr., Raymond </O=ENRON/OU=NA/CN=RECIPIEN...   \n",
       "1170                                      Hannon, Kevin   \n",
       "538                                         John Arnold   \n",
       "63                                      Phillip K Allen   \n",
       "993   Sturm, Fletcher J. </O=ENRON/OU=NA/CN=RECIPIEN...   \n",
       "\n",
       "                                                   x_to        user  \\\n",
       "650   Denne, Karen </O=ENRON/OU=NA/CN=RECIPIENTS/CN=...      kean-s   \n",
       "1170  Lay, Kenneth </o=ENRON/ou=NA/cn=Recipients/cn=...  skilling-j   \n",
       "538   John J Lavorato <John J Lavorato/ENRON@enronXg...    arnold-j   \n",
       "63    Mike Grigsby, Keith Holst, Frank Ermis, Jane M...     allen-p   \n",
       "993   Baughman Jr., Don </O=ENRON/OU=NA/CN=RECIPIENT...  baughman-d   \n",
       "\n",
       "                                             lemmatized  \\\n",
       "650   ... let circulate usual suspect well fax Ken A...   \n",
       "1170  To Enron Corporate Policy Committee Please rev...   \n",
       "538   none From =09John J enronXgate AM To =09Philli...   \n",
       "63    Forwarded Phillip K AM D Steffes ENRON AM To P...   \n",
       "993   thank great 1st half year fletch Message From ...   \n",
       "\n",
       "                                         stemmed_tokens  tag  lem_len  \n",
       "650   ... let circul usual suspect well fax ken also...    1       23  \n",
       "1170  to enron corpor polici committe pleas review a...    1       23  \n",
       "538   none from =09john j enronxg am to =09phillip k...    0      145  \n",
       "63    forward phillip k am d steff enron am to phill...    0      176  \n",
       "993   thank great 1st half year fletch messag from b...    0       53  "
      ]
     },
     "execution_count": 18,
     "metadata": {},
     "output_type": "execute_result"
    }
   ],
   "source": [
    "df.head()"
   ]
  },
  {
   "cell_type": "code",
   "execution_count": 19,
   "metadata": {},
   "outputs": [],
   "source": [
    "#preparing the data to feed it for the lda model"
   ]
  },
  {
   "cell_type": "code",
   "execution_count": 20,
   "metadata": {},
   "outputs": [],
   "source": [
    "from nltk.corpus import stopwords\n",
    "stop_words = stopwords.words('english')\n",
    "stop_words.extend(['-','``', \"'\", '/', ':', 'I', 'me', 'my', 'could', 'can','the','to','and','of','in','on','for','is','that','com','you','this','from','be','with','have','will','are','subject','pm','cc','would','enron','sent','message','email','','ect','please'])"
   ]
  },
  {
   "cell_type": "code",
   "execution_count": 21,
   "metadata": {},
   "outputs": [
    {
     "name": "stdout",
     "output_type": "stream",
     "text": [
      "Collecting spacey\n",
      "  Downloading spacey-0.1.1-py3-none-any.whl (2.1 kB)\n",
      "Installing collected packages: spacey\n",
      "Successfully installed spacey-0.1.1\n"
     ]
    }
   ],
   "source": [
    "!pip install spacey"
   ]
  },
  {
   "cell_type": "code",
   "execution_count": 24,
   "metadata": {},
   "outputs": [
    {
     "ename": "NameError",
     "evalue": "name 'spacy' is not defined",
     "output_type": "error",
     "traceback": [
      "\u001b[1;31m---------------------------------------------------------------------------\u001b[0m",
      "\u001b[1;31mNameError\u001b[0m                                 Traceback (most recent call last)",
      "\u001b[1;32m~\\AppData\\Local\\Temp/ipykernel_5596/1007731479.py\u001b[0m in \u001b[0;36m<module>\u001b[1;34m\u001b[0m\n\u001b[1;32m----> 1\u001b[1;33m \u001b[0mnlp\u001b[0m \u001b[1;33m=\u001b[0m \u001b[0mspacy\u001b[0m\u001b[1;33m.\u001b[0m\u001b[0mload\u001b[0m\u001b[1;33m(\u001b[0m\u001b[1;34m'en_core_web_sm'\u001b[0m\u001b[1;33m,\u001b[0m \u001b[0mdisable\u001b[0m\u001b[1;33m=\u001b[0m\u001b[1;33m[\u001b[0m\u001b[1;34m'parser'\u001b[0m\u001b[1;33m,\u001b[0m \u001b[1;34m'ner'\u001b[0m\u001b[1;33m]\u001b[0m\u001b[1;33m)\u001b[0m\u001b[1;33m\u001b[0m\u001b[1;33m\u001b[0m\u001b[0m\n\u001b[0m",
      "\u001b[1;31mNameError\u001b[0m: name 'spacy' is not defined"
     ]
    }
   ],
   "source": [
    "nlp = spacy.load('en_core_web_sm', disable=['parser', 'ner'])"
   ]
  },
  {
   "cell_type": "code",
   "execution_count": 25,
   "metadata": {},
   "outputs": [],
   "source": [
    "def strip_newline(series):\n",
    "    return [review.replace('\\n','') for review in series]\n",
    "\n",
    "def sent_to_words(sentences):\n",
    "    for sentence in sentences:\n",
    "        yield(gensim.utils.simple_preprocess(str(sentence), deacc=True))\n",
    "        \n",
    "def remove_stopwords(texts):\n",
    "    return [[word for word in simple_preprocess(str(doc)) if word not in stop_words] for doc in texts]"
   ]
  },
  {
   "cell_type": "code",
   "execution_count": 26,
   "metadata": {},
   "outputs": [],
   "source": [
    "def bigrams(words, bi_min=15, tri_min=10):\n",
    "    bigram = gensim.models.Phrases(words, min_count = bi_min)\n",
    "    bigram_mod = gensim.models.phrases.Phraser(bigram)\n",
    "    return bigram_mod"
   ]
  },
  {
   "cell_type": "code",
   "execution_count": 27,
   "metadata": {},
   "outputs": [],
   "source": [
    "def get_corpus(df):\n",
    "    \"\"\"\n",
    "    Get Bigram Model, Corpus, id2word mapping\n",
    "    \"\"\"\n",
    "    \n",
    "    df['lemmatized'] = strip_newline(df.lemmatized)\n",
    "    words = list(sent_to_words(df.lemmatized))\n",
    "    words = remove_stopwords(words)\n",
    "    bigram = bigrams(words)\n",
    "    bigram = [bigram[review] for review in words]\n",
    "#     lemma = lemmatization(bigram)\n",
    "    id2word = gensim.corpora.Dictionary(bigram)\n",
    "    id2word.filter_extremes(no_below=10, no_above=0.35)\n",
    "    id2word.compactify()\n",
    "    corpus = [id2word.doc2bow(text) for text in bigram]\n",
    "    return corpus, id2word, bigram"
   ]
  },
  {
   "cell_type": "code",
   "execution_count": 28,
   "metadata": {},
   "outputs": [],
   "source": [
    "train_corpus4, train_id2word4, bigram_train4 = get_corpus(df)"
   ]
  },
  {
   "cell_type": "code",
   "execution_count": 29,
   "metadata": {},
   "outputs": [],
   "source": [
    "#impoting ang the model"
   ]
  },
  {
   "cell_type": "code",
   "execution_count": 30,
   "metadata": {},
   "outputs": [],
   "source": [
    "import logging\n",
    "logging.basicConfig(filename='lda_model.log', format='%(asctime)s : %(levelname)s : %(message)s', level=logging.INFO)\n",
    "\n",
    "with warnings.catch_warnings():\n",
    "    warnings.simplefilter('ignore')\n",
    "    lda_train4 = gensim.models.ldamulticore.LdaMulticore(\n",
    "                           corpus=train_corpus4,\n",
    "                           num_topics=20,\n",
    "                           id2word=train_id2word4,\n",
    "                           chunksize=100,\n",
    "                           workers=7, # Num. Processing Cores - 1\n",
    "                           passes=50,\n",
    "                           eval_every = 1,\n",
    "                           per_word_topics=True)\n",
    "    lda_train4.save('lda_train4.model')"
   ]
  },
  {
   "cell_type": "code",
   "execution_count": 31,
   "metadata": {},
   "outputs": [],
   "source": [
    "#model coherence calculated here"
   ]
  },
  {
   "cell_type": "code",
   "execution_count": 32,
   "metadata": {},
   "outputs": [
    {
     "data": {
      "text/plain": [
       "0.38556279710307656"
      ]
     },
     "execution_count": 32,
     "metadata": {},
     "output_type": "execute_result"
    }
   ],
   "source": [
    "coherence_model_lda = CoherenceModel(model=lda_train4, texts=bigram_train4, dictionary=train_id2word4, coherence='c_v')\n",
    "coherence_lda = coherence_model_lda.get_coherence()\n",
    "coherence_lda"
   ]
  },
  {
   "cell_type": "code",
   "execution_count": 33,
   "metadata": {},
   "outputs": [],
   "source": [
    "#sample of lda topics from lda"
   ]
  },
  {
   "cell_type": "code",
   "execution_count": 34,
   "metadata": {},
   "outputs": [
    {
     "data": {
      "text/plain": [
       "[(0,\n",
       "  '0.034*\"go\" + 0.026*\"think\" + 0.016*\"eric\" + 0.015*\"get\" + 0.014*\"still\" + 0.013*\"curve\" + 0.013*\"good\" + 0.013*\"see\" + 0.012*\"john\" + 0.012*\"back\" + 0.012*\"tonight\" + 0.011*\"try\" + 0.010*\"give\" + 0.010*\"let_know\" + 0.010*\"today\"'),\n",
       " (1,\n",
       "  '0.059*\"ees\" + 0.021*\"california\" + 0.017*\"phillip\" + 0.014*\"gas\" + 0.013*\"file\" + 0.012*\"letter\" + 0.012*\"jeff\" + 0.012*\"ferc\" + 0.011*\"socal\" + 0.011*\"dan\" + 0.010*\"forwarded_phillip\" + 0.010*\"pg\" + 0.010*\"richard\" + 0.010*\"forwarded\" + 0.010*\"rate\"'),\n",
       " (2,\n",
       "  '0.017*\"review\" + 0.017*\"copy\" + 0.017*\"may\" + 0.016*\"today\" + 0.015*\"file\" + 0.015*\"corp\" + 0.014*\"draft\" + 0.013*\"thank\" + 0.012*\"delete\" + 0.011*\"intend\" + 0.011*\"intend_recipient\" + 0.011*\"tuesday_november\" + 0.010*\"natural_gas\" + 0.010*\"doc\" + 0.010*\"contract\"'),\n",
       " (3,\n",
       "  '0.023*\"pay\" + 0.020*\"edison\" + 0.019*\"chart\" + 0.018*\"offer\" + 0.016*\"web\" + 0.014*\"soblander_carrfut\" + 0.013*\"via\" + 0.011*\"option\" + 0.010*\"click\" + 0.010*\"carr_futures\" + 0.010*\"http\" + 0.009*\"matrix\" + 0.009*\"issue\" + 0.009*\"consider\" + 0.009*\"say\"'),\n",
       " (4,\n",
       "  '0.014*\"work\" + 0.012*\"think\" + 0.012*\"year\" + 0.012*\"project\" + 0.011*\"deal\" + 0.011*\"one\" + 0.010*\"get\" + 0.009*\"make\" + 0.008*\"good\" + 0.008*\"need\" + 0.008*\"issue\" + 0.007*\"give\" + 0.007*\"new\" + 0.007*\"look\" + 0.007*\"take\"'),\n",
       " (5,\n",
       "  '0.015*\"cost\" + 0.012*\"value\" + 0.011*\"million\" + 0.010*\"risk\" + 0.010*\"charge\" + 0.009*\"exposure\" + 0.009*\"asset\" + 0.009*\"deal\" + 0.009*\"pay\" + 0.009*\"market\" + 0.008*\"book\" + 0.008*\"ena\" + 0.008*\"total\" + 0.008*\"change\" + 0.008*\"px\"'),\n",
       " (6,\n",
       "  '0.019*\"tw\" + 0.018*\"howard_kevin\" + 0.016*\"nng\" + 0.016*\"thanks_lynn\" + 0.014*\"blair_lynn\" + 0.014*\"kevin\" + 0.012*\"need\" + 0.010*\"thanks\" + 0.010*\"hayslett_rod\" + 0.010*\"blackberry_wireless\" + 0.010*\"blackberry_net\" + 0.010*\"handheld_www\" + 0.010*\"dynegy\" + 0.009*\"model\" + 0.008*\"shelley\"'),\n",
       " (7,\n",
       "  '0.027*\"sally\" + 0.022*\"list\" + 0.014*\"gas\" + 0.012*\"bob\" + 0.011*\"louise_kitchen\" + 0.011*\"power\" + 0.011*\"thanks\" + 0.011*\"canada\" + 0.009*\"chris_calger\" + 0.009*\"rob\" + 0.009*\"beth\" + 0.009*\"energy\" + 0.009*\"calgary\" + 0.008*\"vince\" + 0.008*\"max\"'),\n",
       " (8,\n",
       "  '0.024*\"ercot\" + 0.024*\"mw\" + 0.020*\"sell\" + 0.018*\"schedule\" + 0.016*\"book\" + 0.014*\"need\" + 0.013*\"price\" + 0.013*\"deal\" + 0.013*\"frontera\" + 0.012*\"plant\" + 0.012*\"load\" + 0.012*\"hour\" + 0.010*\"unit\" + 0.010*\"jmf\" + 0.009*\"tomorrow\"'),\n",
       " (9,\n",
       "  '0.023*\"market\" + 0.022*\"trade\" + 0.020*\"reserve\" + 0.019*\"john\" + 0.016*\"eol\" + 0.015*\"price\" + 0.014*\"forwarded\" + 0.014*\"tim\" + 0.013*\"day\" + 0.012*\"change\" + 0.012*\"power\" + 0.012*\"party\" + 0.012*\"new\" + 0.011*\"may\" + 0.011*\"standard\"')]"
      ]
     },
     "execution_count": 34,
     "metadata": {},
     "output_type": "execute_result"
    }
   ],
   "source": [
    "lda_train4.print_topics(20,num_words=15)[:10]"
   ]
  },
  {
   "cell_type": "code",
   "execution_count": 35,
   "metadata": {},
   "outputs": [],
   "source": [
    "#vectorizing the topics to feed it to lohistic regression"
   ]
  },
  {
   "cell_type": "code",
   "execution_count": 36,
   "metadata": {},
   "outputs": [],
   "source": [
    "train_vecs = []\n",
    "for i in range(len(df)):\n",
    "    top_topics = lda_train4.get_document_topics(train_corpus4[i], minimum_probability=0.0)\n",
    "    topic_vec = [top_topics[i][1] for i in range(20)]\n",
    "    \n",
    "    topic_vec.extend([len(df.iloc[i].lemmatized)]) # length review\n",
    "    train_vecs.append(topic_vec)"
   ]
  },
  {
   "cell_type": "code",
   "execution_count": 37,
   "metadata": {},
   "outputs": [
    {
     "data": {
      "text/plain": [
       "[0.00069449784,\n",
       " 0.00069449784,\n",
       " 0.00069449784,\n",
       " 0.00069449784,\n",
       " 0.00069449784,\n",
       " 0.00069449784,\n",
       " 0.00069449784,\n",
       " 0.00069449784,\n",
       " 0.00069449784,\n",
       " 0.00069449784,\n",
       " 0.9868046,\n",
       " 0.00069449784,\n",
       " 0.00069449784,\n",
       " 0.00069449784,\n",
       " 0.00069449784,\n",
       " 0.00069449784,\n",
       " 0.00069449784,\n",
       " 0.00069449784,\n",
       " 0.00069449784,\n",
       " 0.00069449784,\n",
       " 823]"
      ]
     },
     "execution_count": 37,
     "metadata": {},
     "output_type": "execute_result"
    }
   ],
   "source": [
    "train_vecs[2]"
   ]
  },
  {
   "cell_type": "code",
   "execution_count": 38,
   "metadata": {},
   "outputs": [],
   "source": [
    "X = np.array(train_vecs)"
   ]
  },
  {
   "cell_type": "code",
   "execution_count": 39,
   "metadata": {},
   "outputs": [],
   "source": [
    "y = np.array(df.tag)"
   ]
  },
  {
   "cell_type": "code",
   "execution_count": 40,
   "metadata": {},
   "outputs": [],
   "source": [
    "#the data is prepared and fed to the model here"
   ]
  },
  {
   "cell_type": "code",
   "execution_count": 41,
   "metadata": {},
   "outputs": [],
   "source": [
    "kf = KFold(5, shuffle=True, random_state=42)\n",
    "cv_lr_f1, cv_lrsgd_f1, cv_svcsgd_f1,  = [], [], []\n",
    "\n",
    "for train_ind, val_ind in kf.split(X, y):\n",
    "    # Assign CV IDX\n",
    "    X_train, y_train = X[train_ind], y[train_ind]\n",
    "    X_val, y_val = X[val_ind], y[val_ind]\n",
    "    \n",
    "    # Scale Data\n",
    "    scaler = StandardScaler()\n",
    "    X_train_scale = scaler.fit_transform(X_train)\n",
    "    X_val_scale = scaler.transform(X_val)\n",
    "\n",
    "    # Logisitic Regression\n",
    "    lr = LogisticRegression(\n",
    "        class_weight= 'balanced',\n",
    "        solver='newton-cg',\n",
    "        fit_intercept=True\n",
    "    ).fit(X_train_scale, y_train)\n",
    "\n",
    "    y_pred = lr.predict(X_val_scale)\n",
    "    cv_lr_f1.append(f1_score(y_val, y_pred, average='binary'))\n",
    "    \n",
    "    # Logistic Regression Mini-Batch SGD\n",
    "    sgd = linear_model.SGDClassifier(\n",
    "        max_iter=1000,\n",
    "        tol=1e-3,\n",
    "        loss='log',\n",
    "        class_weight='balanced'\n",
    "    ).fit(X_train_scale, y_train)\n",
    "    \n",
    "    y_pred = sgd.predict(X_val_scale)\n",
    "    cv_lrsgd_f1.append(f1_score(y_val, y_pred, average='binary'))\n",
    "    \n",
    " \n",
    "\n",
    "\n",
    "\n"
   ]
  },
  {
   "cell_type": "code",
   "execution_count": 42,
   "metadata": {},
   "outputs": [
    {
     "name": "stdout",
     "output_type": "stream",
     "text": [
      "Logistic Regression Val f1: 0.711 +- 0.006\n",
      "Logisitic Regression SGD Val f1: 0.670 +- 0.021\n"
     ]
    }
   ],
   "source": [
    "print(f'Logistic Regression Val f1: {np.mean(cv_lr_f1):.3f} +- {np.std(cv_lr_f1):.3f}')\n",
    "print(f'Logisitic Regression SGD Val f1: {np.mean(cv_lrsgd_f1):.3f} +- {np.std(cv_lrsgd_f1):.3f}')"
   ]
  },
  {
   "cell_type": "code",
   "execution_count": 43,
   "metadata": {},
   "outputs": [
    {
     "name": "stdout",
     "output_type": "stream",
     "text": [
      "Actual Class label :  1 Predicted Class label :  0\n",
      "Actual Class label :  0 Predicted Class label :  1\n",
      "Actual Class label :  1 Predicted Class label :  1\n",
      "Actual Class label :  0 Predicted Class label :  0\n",
      "Actual Class label :  1 Predicted Class label :  1\n",
      "Actual Class label :  0 Predicted Class label :  0\n",
      "Actual Class label :  0 Predicted Class label :  1\n",
      "Actual Class label :  1 Predicted Class label :  1\n",
      "Actual Class label :  0 Predicted Class label :  1\n",
      "Actual Class label :  1 Predicted Class label :  1\n"
     ]
    }
   ],
   "source": [
    "for i in range(10):\n",
    "    print('Actual Class label : ',y_val[i],end=' ')\n",
    "    print('Predicted Class label : ',y_pred[i])"
   ]
  },
  {
   "cell_type": "code",
   "execution_count": 44,
   "metadata": {},
   "outputs": [],
   "source": [
    "import matplotlib.pyplot as plt\n",
    "import seaborn as sns\n",
    "from sklearn import metrics"
   ]
  },
  {
   "cell_type": "code",
   "execution_count": 45,
   "metadata": {},
   "outputs": [
    {
     "name": "stdout",
     "output_type": "stream",
     "text": [
      "[[212  91]\n",
      " [ 72 183]]\n"
     ]
    }
   ],
   "source": [
    "cm = metrics.confusion_matrix(y_val, y_pred)\n",
    "print(cm)\n"
   ]
  },
  {
   "cell_type": "code",
   "execution_count": 46,
   "metadata": {},
   "outputs": [
    {
     "data": {
      "image/png": "[encoded data removed]",
      "text/plain": [
       "<Figure size 648x648 with 2 Axes>"
      ]
     },
     "metadata": {
      "image/png": {
       "height": 510,
       "width": 561
      },
      "needs_background": "light"
     },
     "output_type": "display_data"
    }
   ],
   "source": [
    "plt.figure(figsize=(9,9))\n",
    "sns.heatmap(cm, annot=True, fmt=\".3f\", linewidths=.5, square = True, cmap = 'Blues_r');\n",
    "plt.ylabel('Actual label');\n",
    "plt.xlabel('Predicted label');\n",
    "\n"
   ]
  },
  {
   "cell_type": "code",
   "execution_count": 47,
   "metadata": {},
   "outputs": [
    {
     "data": {
      "text/plain": [
       "0.45698924731182794"
      ]
     },
     "execution_count": 47,
     "metadata": {},
     "output_type": "execute_result"
    }
   ],
   "source": [
    "sgd.score(X_val,y_val)"
   ]
  },
  {
   "cell_type": "code",
   "execution_count": 48,
   "metadata": {},
   "outputs": [
    {
     "data": {
      "text/plain": [
       "0.45698924731182794"
      ]
     },
     "execution_count": 48,
     "metadata": {},
     "output_type": "execute_result"
    }
   ],
   "source": [
    "lr.score(X_val,y_val)"
   ]
  },
  {
   "cell_type": "code",
   "execution_count": null,
   "metadata": {},
   "outputs": [],
   "source": []
  }
 ],
 "metadata": {
  "kernelspec": {
   "display_name": "Python 3 (ipykernel)",
   "language": "python",
   "name": "python3"
  },
  "language_info": {
   "codemirror_mode": {
    "name": "ipython",
    "version": 3
   },
   "file_extension": ".py",
   "mimetype": "text/x-python",
   "name": "python",
   "nbconvert_exporter": "python",
   "pygments_lexer": "ipython3",
   "version": "3.9.7"
  }
 },
 "nbformat": 4,
 "nbformat_minor": 4
}
